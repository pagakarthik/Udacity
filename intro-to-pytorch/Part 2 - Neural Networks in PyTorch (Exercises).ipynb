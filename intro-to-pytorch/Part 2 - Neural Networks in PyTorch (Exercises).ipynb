{
 "cells": [
  {
   "cell_type": "code",
   "execution_count": null,
   "metadata": {},
   "outputs": [],
   "source": [
    "# Neural networks with PyTorch\n",
    "\n",
    "# Deep learning networks tend to be massive with dozens or hundreds of layers, that's where the term \"deep\" comes from. You can build one of these deep networks using only weight matrices as we did in the previous notebook, but in general it's very cumbersome and difficult to implement. PyTorch has a nice module `nn` that provides a nice way to efficiently build large neural networks."
   ]
  },
  {
   "cell_type": "code",
   "execution_count": 1,
   "metadata": {},
   "outputs": [],
   "source": [
    "# Import necessary packages\n",
    "\n",
    "%matplotlib inline\n",
    "%config InlineBackend.figure_format = 'retina'\n",
    "\n",
    "import numpy as np\n",
    "import torch\n",
    "\n",
    "import helper\n",
    "\n",
    "import matplotlib.pyplot as plt"
   ]
  },
  {
   "cell_type": "markdown",
   "metadata": {},
   "source": [
    "\n",
    "Now we're going to build a larger network that can solve a (formerly) difficult problem, identifying text in an image. Here we'll use the MNIST dataset which consists of greyscale handwritten digits. Each image is 28x28 pixels, you can see a sample below\n",
    "\n",
    "<img src='assets/mnist.png'>\n",
    "\n",
    "Our goal is to build a neural network that can take one of these images and predict the digit in the image.\n",
    "\n",
    "First up, we need to get our dataset. This is provided through the `torchvision` package. The code below will download the MNIST dataset, then create training and test datasets for us. Don't worry too much about the details here, you'll learn more about this later."
   ]
  },
  {
   "cell_type": "code",
   "execution_count": 2,
   "metadata": {},
   "outputs": [],
   "source": [
    "### Run this cell\n",
    "\n",
    "from torchvision import datasets, transforms\n",
    "\n",
    "# Define a transform to normalize the data\n",
    "transform = transforms.Compose([transforms.ToTensor(),\n",
    "                              transforms.Normalize((0.5,), (0.5,)),\n",
    "                              ])\n",
    "\n",
    "# Download and load the training data\n",
    "trainset = datasets.MNIST('~/.pytorch/MNIST_data/', download=True, train=True, transform=transform)\n",
    "trainloader = torch.utils.data.DataLoader(trainset, batch_size=64, shuffle=True)"
   ]
  },
  {
   "cell_type": "markdown",
   "metadata": {},
   "source": [
    "We have the training data loaded into `trainloader` and we make that an iterator with `iter(trainloader)`. Later, we'll use this to loop through the dataset for training, like\n",
    "\n",
    "```python\n",
    "for image, label in trainloader:\n",
    "    ## do things with images and labels\n",
    "```\n",
    "\n",
    "You'll notice I created the `trainloader` with a batch size of 64, and `shuffle=True`. The batch size is the number of images we get in one iteration from the data loader and pass through our network, often called a *batch*. And `shuffle=True` tells it to shuffle the dataset every time we start going through the data loader again. But here I'm just grabbing the first batch so we can check out the data. We can see below that `images` is just a tensor with size `(64, 1, 28, 28)`. So, 64 images per batch, 1 color channel, and 28x28 images."
   ]
  },
  {
   "cell_type": "code",
   "execution_count": 3,
   "metadata": {},
   "outputs": [
    {
     "name": "stdout",
     "output_type": "stream",
     "text": [
      "<class 'torch.Tensor'>\n",
      "torch.Size([64, 1, 28, 28])\n",
      "torch.Size([64])\n"
     ]
    }
   ],
   "source": [
    "dataiter = iter(trainloader)\n",
    "images, labels = dataiter.next()\n",
    "print(type(images))\n",
    "print(images.shape)\n",
    "print(labels.shape)"
   ]
  },
  {
   "cell_type": "markdown",
   "metadata": {},
   "source": [
    "This is what one of the images looks like. "
   ]
  },
  {
   "cell_type": "code",
   "execution_count": 9,
   "metadata": {},
   "outputs": [
    {
     "name": "stdout",
     "output_type": "stream",
     "text": [
      "(1, 28, 28)\n"
     ]
    },
    {
     "data": {
      "image/png": "[encoded data removed]",
      "text/plain": [
       "<Figure size 432x288 with 1 Axes>"
      ]
     },
     "metadata": {
      "image/png": {
       "height": 250,
       "width": 253
      },
      "needs_background": "light"
     },
     "output_type": "display_data"
    }
   ],
   "source": [
    "print (images[1].numpy().shape)\n",
    "plt.imshow(images[1].numpy().squeeze());\n",
    "plt.imshow(images[1].numpy().squeeze(), cmap='Greys_r');"
   ]
  },
  {
   "cell_type": "markdown",
   "metadata": {},
   "source": [
    "First, let's try to build a simple network for this dataset using weight matrices and matrix multiplications. Then, we'll see how to do it using PyTorch's `nn` module which provides a much more convenient and powerful method for defining network architectures.\n",
    "\n",
    "The networks you've seen so far are called *fully-connected* or *dense* networks. Each unit in one layer is connected to each unit in the next layer. In fully-connected networks, the input to each layer must be a one-dimensional vector (which can be stacked into a 2D tensor as a batch of multiple examples). However, our images are 28x28 2D tensors, so we need to convert them into 1D vectors. Thinking about sizes, we need to convert the batch of images with shape `(64, 1, 28, 28)` to a have a shape of `(64, 784)`, 784 is 28 times 28. This is typically called *flattening*, we flattened the 2D images into 1D vectors.\n",
    "\n",
    "Previously you built a network with one output unit. Here we need 10 output units, one for each digit. We want our network to predict the digit shown in an image, so what we'll do is calculate probabilities that the image is of any one digit or class. This ends up being a discrete probability distribution over the classes (digits) that tells us the most likely class for the image. That means we need 10 output units for the 10 classes (digits). We'll see how to convert the network output into a probability distribution next.\n",
    "\n",
    "> **Exercise:** Flatten the batch of images `images`. Then build a multi-layer network with 784 input units, 256 hidden units, and 10 output units using random tensors for the weights and biases. For now, use a sigmoid activation for the hidden layer. Leave the output layer without an activation, we'll add one that gives us a probability distribution next."
   ]
  },
  {
   "cell_type": "code",
   "execution_count": 14,
   "metadata": {},
   "outputs": [
    {
     "name": "stdout",
     "output_type": "stream",
     "text": [
      "torch.Size([64, 10])\n",
      "tensor([[  6.6918,  -4.3973,  -8.3576,  18.2283,   7.8185,  -3.5567,  23.8575,\n",
      "          17.9700, -12.3562,   1.8420],\n",
      "        [  2.1765,  13.9820,  -4.8494,  31.0817,  17.6255,  -4.1311,  14.9374,\n",
      "           1.7686,   2.2334,   9.3314],\n",
      "        [ -1.7076,   9.3374,  -6.6670,  21.1569,   0.7419,  -2.1518,  18.4026,\n",
      "          17.7614,  -0.2574,   4.0084],\n",
      "        [ -1.4312,   8.6768,   1.4448,  20.0971,  13.3438,  -8.3705,  20.5242,\n",
      "           2.6801,  -6.3891,  10.6904],\n",
      "        [  6.2526,   4.5210, -10.5450,  29.1513,  10.7590,   5.7505,  26.5676,\n",
      "          15.1609,  -4.1814,  -0.0187],\n",
      "        [ -2.9852,  15.2055,   0.2484,  24.8930,   5.7701, -11.1400,  14.6601,\n",
      "          17.6764,   5.1881,  -1.8096],\n",
      "        [  9.7972,   3.2155,  -3.6559,  25.5093,  14.8364,  -1.7322,  21.3947,\n",
      "          12.9749, -10.5035,  -1.8883],\n",
      "        [  1.5305,  14.0325,   8.4535,  29.1679,   3.0214,  -2.0840,  25.3083,\n",
      "          16.5758,  -6.0080,   0.3779],\n",
      "        [  2.4943,   7.0092,  -1.1490,  26.8199,   3.3369,  -2.0344,  24.1383,\n",
      "           8.2398,  -8.1220,   6.4813],\n",
      "        [  0.3241,   6.6769,  -0.9227,  29.5409,   0.1904,  -3.9296,   8.5753,\n",
      "          14.3757,  -6.1514,   7.2849],\n",
      "        [ -6.9103,   4.2731,  -4.1818,  26.4277,   9.3228,  -7.5869,  17.9514,\n",
      "          -5.6799,  -5.7891,  12.0801],\n",
      "        [  1.0522,   1.3066,  -3.0992,  25.2475,  12.1500,  -5.3378,  19.3747,\n",
      "           9.9118,  -6.3007,  11.3976],\n",
      "        [  0.1418,   6.8997,  -7.5358,  21.3194,  20.2891,  -2.1691,  23.2172,\n",
      "           7.9059,   1.0202,   9.2518],\n",
      "        [ -1.8245,   9.4260,  -1.9549,  25.3598,  15.8050, -19.0834,  15.6793,\n",
      "           7.0463, -14.8069,   7.8212],\n",
      "        [  2.9768,  11.4411,  -2.3792,  25.7812,   4.6229,  -3.1229,  14.6272,\n",
      "          11.0912,  -3.0054,  -1.5553],\n",
      "        [  0.7142,  -1.1775,  -2.6477,  40.4426,  12.2072,  -9.6436,  15.7318,\n",
      "          16.7929, -12.3377,  -5.1492],\n",
      "        [ -8.3704,  -0.1656, -10.5156,  23.0590,  14.2741,  -6.0625,  20.1223,\n",
      "          18.6844,  -9.6209,   0.9426],\n",
      "        [  0.4908,   0.6688,  -8.7600,  14.0344,  15.7678,   1.2388,  20.8833,\n",
      "           2.0455,  -7.2078,  11.4365],\n",
      "        [  1.1944,   1.3200,  -4.9543,  19.4867,  15.7147, -14.2511,   6.9780,\n",
      "          19.6993,  -3.1736,   0.4519],\n",
      "        [  2.4402,   1.7370,  -1.8494,  30.4692,  26.8101, -10.2248,  15.3804,\n",
      "          10.9171, -11.3271,  -1.5254],\n",
      "        [  1.1827,   8.9060,  -1.6303,  27.6900,  11.3428, -10.3511,  20.3772,\n",
      "          10.2323,  -7.7399,   1.6261],\n",
      "        [-10.1517,   3.8023,  -2.8245,  19.4288,  -1.5468,  -6.7644,   6.6507,\n",
      "          12.6181,   0.4379,  -1.5318],\n",
      "        [  6.7297,   6.4480,  -2.4161,  22.6068,   8.8999,  -0.8565,  18.5475,\n",
      "          17.9422,  -6.6518,   5.3651],\n",
      "        [ -0.4957,  -5.9248,  -1.2720,  30.6134,   0.1782,  -6.0003,  10.4018,\n",
      "           6.7230,   1.7226,  11.4045],\n",
      "        [ -2.0045,  13.9409,  -1.1163,  30.0714,  20.5679, -12.5543,  21.3759,\n",
      "          -5.7667,  -2.7646,   4.9779],\n",
      "        [ -7.6325,   4.6652,  -4.8165,  17.5291,  13.3800, -10.9545,  21.6965,\n",
      "           9.3783, -14.2372,   3.0532],\n",
      "        [ -1.6955,   9.6846,   4.8182,   7.7736,  16.5263,  -8.5688,   8.9941,\n",
      "           2.9462,   6.7442,   7.4168],\n",
      "        [ -0.7392,  10.2450,  -6.7964,  37.9185,  10.3674,  -9.4651,  22.4633,\n",
      "          14.4457,  -6.9592,   8.7720],\n",
      "        [ -0.1533,  10.5624,  -7.8606,  15.9225,  16.1383,   0.6984,  15.4986,\n",
      "           5.9678,  -6.3174,   2.5066],\n",
      "        [ -2.7461,   9.2680, -12.3205,  25.0682,  13.6245, -13.3091,  14.4699,\n",
      "          13.7254,  -9.1640,  15.0578],\n",
      "        [  1.5071,  10.0761,  -4.8001,  19.7827,   1.5836,   3.5085,  23.3891,\n",
      "          16.4661,  -4.6648,   5.8165],\n",
      "        [ 11.6466,   5.4510,  -8.6382,  29.9939,  14.8698,  -5.9206,  20.2726,\n",
      "          10.6498, -11.5291,   0.5583],\n",
      "        [  6.2782,  -2.0987,  -2.6083,  20.0985,  11.5952,  -6.9183,  18.8937,\n",
      "          -3.1467,  -3.2183,   0.6760],\n",
      "        [ -9.7402,   8.0469,  -3.7185,  24.1478,   8.9028, -12.8594,  10.6692,\n",
      "           8.4032,  -2.8114,   1.3187],\n",
      "        [  3.4935,   2.9951,   2.4374,  22.9140,  17.3131,  -9.6924,  21.3560,\n",
      "          12.9038,  -4.9115,  -0.7176],\n",
      "        [  2.7558,  -0.7386,  -6.3082,  26.0747,   7.2234,   2.0595,  21.9232,\n",
      "          14.1875, -10.4488,   1.3729],\n",
      "        [  3.5205,   6.2394,  -3.1080,  19.3159,  14.6963,  -2.1069,  21.9424,\n",
      "           5.9976, -16.0428,  -0.6457],\n",
      "        [  3.1499,   2.7526,  -0.8548,  18.9532,   8.7933, -11.2233,  12.6854,\n",
      "           8.9236,  -5.9998,   0.9230],\n",
      "        [ -1.0862,   6.0270,  -4.2068,  21.5708,  15.0752,  -9.5930,  16.9633,\n",
      "          14.7137,  -7.5497,  -0.3926],\n",
      "        [ -0.4000,   6.3443,  -3.5172,  23.5374,  15.1753, -18.6527,  13.4315,\n",
      "          -7.5089,  -9.8159,   0.4106],\n",
      "        [ -9.3866,   3.4086, -11.2527,  11.1442,  19.4625,  -3.2829,  20.0160,\n",
      "           4.5077,  -7.0752,   8.2879],\n",
      "        [  0.3075,   9.0835,   2.5676,  24.0672,  19.1733, -20.1762,  12.1400,\n",
      "           0.8712, -13.5937,  10.3376],\n",
      "        [  0.2970,   8.8466,  -5.2378,  29.9115,  17.1407, -10.4546,  23.6899,\n",
      "           8.3193,  -9.0860,   3.2705],\n",
      "        [  3.9911,  16.4459,   6.6158,  12.4356,  12.2156, -12.7951,  15.5450,\n",
      "           6.3209,  -6.2547,   1.9773],\n",
      "        [ -1.6751,   8.6635,  -9.6856,  29.5375,  11.8373,  -6.3438,  17.0612,\n",
      "          15.8301, -11.4832,   3.4228],\n",
      "        [  3.4358,   7.5030,  -0.6688,  11.3082,   3.3244,  -5.5141,  20.8786,\n",
      "          10.1787,  -3.9031,  10.5730],\n",
      "        [  6.4398,   9.3984, -12.9511,  24.8754,  17.3798,   1.2721,  23.4824,\n",
      "           6.2419, -12.0716,   1.8112],\n",
      "        [  5.6021,   2.2159,  -7.3626,  18.4175,  -3.4944,  -8.3527,  20.9664,\n",
      "          15.7682,  -0.7082,   6.7800],\n",
      "        [  0.8727,   8.4166,   0.0305,  35.8320,  20.4199,   4.6594,  23.2370,\n",
      "          17.7604,  -9.8303,   3.8096],\n",
      "        [  2.8062,  10.3372,  -6.2210,  12.9419,   7.5991,  -6.4464,  21.9558,\n",
      "           6.0120,  -7.8175,  10.1223],\n",
      "        [ -5.7079,   9.2485,   2.5189,  23.4371,  21.5586, -13.2547,  20.1222,\n",
      "          -2.2169,  -3.4423,   6.3795],\n",
      "        [ -2.4377,  10.1485, -11.4745,  31.2357,   6.4105,  -5.5329,  17.1715,\n",
      "          14.1349,  -6.1468,   5.6194],\n",
      "        [  9.5448,   4.0823,  -6.0053,  15.7478,  11.9501,  -1.1539,  13.1242,\n",
      "          11.4729,  -5.0592,   2.5125],\n",
      "        [ -7.8777,   7.5495,  -5.7403,  17.8605,  13.7100,  -6.8855,  27.8254,\n",
      "          14.1425,  -8.9989,   0.1225],\n",
      "        [ -5.6760,  12.5413,  -6.0566,  24.8920,  15.1163,  -3.4056,  19.9475,\n",
      "          10.9375,  -6.0515,   8.0967],\n",
      "        [ -5.8593,  -3.9686,   0.4766,  18.0463,   8.3391,  -9.2388,   3.7539,\n",
      "          -1.2320, -11.7628,   8.3503],\n",
      "        [  4.3480,   2.0251,  -7.5546,  19.0103,   8.3270,   1.8692,  15.0487,\n",
      "          15.4275,  -6.0281,   0.0492],\n",
      "        [ -4.5999,  10.6982,  -7.2284,  17.3509,  13.0337, -13.1202,   6.1129,\n",
      "           7.8312,  -1.0525,   6.7046],\n",
      "        [  4.0849,   4.1778,  -8.1196,  20.4758,  12.1494,  -4.0349,  19.8144,\n",
      "           1.7748, -13.1242,  11.2255],\n",
      "        [  5.9507,   8.0218, -11.6349,  15.5789,   1.0398,  -0.4635,  19.7769,\n",
      "          15.4676,  -6.4718,  10.6661],\n",
      "        [ -0.7701,   5.8397, -10.1508,  21.0620,  17.9820,  -2.1319,  16.8492,\n",
      "           5.1732,  -7.6137,   1.8300],\n",
      "        [ -1.0652,  -2.3761,   0.5072,  30.7125,  11.1578,  -8.6963,  15.4079,\n",
      "          19.4145,  -4.4554,   1.0273],\n",
      "        [ -7.2139,  -3.1470,   0.7873,  16.2329,  26.9158, -11.7363,  22.0863,\n",
      "           2.2782,  -6.1917,   2.1045],\n",
      "        [  2.5620,   8.6073,  -3.9413,  25.8073,   8.0650,   0.5737,  20.7964,\n",
      "          21.8848,   0.5462,  -2.0438]])\n"
     ]
    }
   ],
   "source": [
    "## Your solution\n",
    "\n",
    "def activation(x):\n",
    "    return 1/(1+torch.exp(-x))\n",
    "\n",
    "x = images.view((images.shape[0], -1))\n",
    "\n",
    "w1 = torch.randn(784, 256)\n",
    "b1 = torch.randn(256)\n",
    "\n",
    "w2 = torch.randn(256, 10)\n",
    "b2 = torch.randn(10)\n",
    "\n",
    "\n",
    "h1 = activation(torch.mm(x, w1) + b1)\n",
    "\n",
    "out = torch.mm(h1, w2) + b2\n",
    "print (out.shape)\n",
    "print (out)\n",
    "\n",
    "# out = # output of your network, should have shape (64,10)"
   ]
  },
  {
   "cell_type": "markdown",
   "metadata": {},
   "source": [
    "## Now we have 10 outputs for our network. We want to pass in an image to our network and get out a probability distribution over the classes that tells us the likely class(es) the image belongs to. Something that looks like this:\n",
    "<img src='assets/image_distribution.png' width=500px>\n",
    "\n",
    "Here we see that the probability for each class is roughly the same. This is representing an untrained network, it hasn't seen any data yet so it just returns a uniform distribution with equal probabilities for each class.\n",
    "\n",
    "To calculate this probability distribution, we often use the [**softmax** function](https://en.wikipedia.org/wiki/Softmax_function). Mathematically this looks like\n",
    "\n",
    "$$\n",
    "\\Large \\sigma(x_i) = \\cfrac{e^{x_i}}{\\sum_k^K{e^{x_k}}}\n",
    "$$\n",
    "\n",
    "What this does is squish each input $x_i$ between 0 and 1 and normalizes the values to give you a proper probability distribution where the probabilites sum up to one.\n",
    "\n",
    "> **Exercise:** Implement a function `softmax` that performs the softmax calculation and returns probability distributions for each example in the batch. Note that you'll need to pay attention to the shapes when doing this. If you have a tensor `a` with shape `(64, 10)` and a tensor `b` with shape `(64,)`, doing `a/b` will give you an error because PyTorch will try to do the division across the columns (called broadcasting) but you'll get a size mismatch. The way to think about this is for each of the 64 examples, you only want to divide by one value, the sum in the denominator. So you need `b` to have a shape of `(64, 1)`. This way PyTorch will divide the 10 values in each row of `a` by the one value in each row of `b`. Pay attention to how you take the sum as well. You'll need to define the `dim` keyword in `torch.sum`. Setting `dim=0` takes the sum across the rows while `dim=1` takes the sum across the columns."
   ]
  },
  {
   "cell_type": "code",
   "execution_count": 15,
   "metadata": {},
   "outputs": [
    {
     "name": "stdout",
     "output_type": "stream",
     "text": [
      "torch.Size([64, 1])\n",
      "torch.Size([64, 10])\n",
      "tensor([1.0000, 1.0000, 1.0000, 1.0000, 1.0000, 1.0000, 1.0000, 1.0000, 1.0000,\n",
      "        1.0000, 1.0000, 1.0000, 1.0000, 1.0000, 1.0000, 1.0000, 1.0000, 1.0000,\n",
      "        1.0000, 1.0000, 1.0000, 1.0000, 1.0000, 1.0000, 1.0000, 1.0000, 1.0000,\n",
      "        1.0000, 1.0000, 1.0000, 1.0000, 1.0000, 1.0000, 1.0000, 1.0000, 1.0000,\n",
      "        1.0000, 1.0000, 1.0000, 1.0000, 1.0000, 1.0000, 1.0000, 1.0000, 1.0000,\n",
      "        1.0000, 1.0000, 1.0000, 1.0000, 1.0000, 1.0000, 1.0000, 1.0000, 1.0000,\n",
      "        1.0000, 1.0000, 1.0000, 1.0000, 1.0000, 1.0000, 1.0000, 1.0000, 1.0000,\n",
      "        1.0000])\n"
     ]
    }
   ],
   "source": [
    "def softmax(x):\n",
    "    ## TODO: Implement the softmax function eeewhere\n",
    "    b = torch.sum(torch.exp(x), dim=1).view(-1, 1)\n",
    "    print (b.shape)\n",
    "    return torch.exp(x)/b\n",
    "\n",
    "# Here, out should be the output of the network in the previous excercise with shape (64,10)\n",
    "probabilities = softmax(out)\n",
    "\n",
    "# Does it have the right shape? Should be (64, 10)\n",
    "print(probabilities.shape)\n",
    "# Does it sum to 1?\n",
    "print(probabilities.sum(dim=1))"
   ]
  },
  {
   "cell_type": "markdown",
   "metadata": {},
   "source": [
    "## Building networks with PyTorch\n",
    "\n",
    "PyTorch provides a module `nn` that makes building networks much simpler. Here I'll show you how to build the same one as above with 784 inputs, 256 hidden units, 10 output units and a softmax output."
   ]
  },
  {
   "cell_type": "code",
   "execution_count": 16,
   "metadata": {},
   "outputs": [],
   "source": [
    "from torch import nn"
   ]
  },
  {
   "cell_type": "code",
   "execution_count": 17,
   "metadata": {},
   "outputs": [],
   "source": [
    "class Network(nn.Module):\n",
    "    def __init__(self):\n",
    "        super().__init__()\n",
    "        \n",
    "        # Inputs to hidden layer linear transformation\n",
    "        self.hidden = nn.Linear(784, 256)\n",
    "        # Output layer, 10 units - one for each digit\n",
    "        self.output = nn.Linear(256, 10)\n",
    "        \n",
    "        # Define sigmoid activation and softmax output \n",
    "        self.sigmoid = nn.Sigmoid()\n",
    "        self.softmax = nn.Softmax(dim=1)\n",
    "        \n",
    "    def forward(self, x):\n",
    "        # Pass the input tensor through each of our operations\n",
    "        x = self.hidden(x)\n",
    "        x = self.sigmoid(x)\n",
    "        x = self.output(x)\n",
    "        x = self.softmax(x)\n",
    "        \n",
    "        return x"
   ]
  },
  {
   "cell_type": "markdown",
   "metadata": {},
   "source": [
    "Let's go through this bit by bit.\n",
    "\n",
    "```python\n",
    "class Network(nn.Module):\n",
    "```\n",
    "\n",
    "Here we're inheriting from `nn.Module`. Combined with `super().__init__()` this creates a class that tracks the architecture and provides a lot of useful methods and attributes. It is mandatory to inherit from `nn.Module` when you're creating a class for your network. The name of the class itself can be anything.\n",
    "\n",
    "```python\n",
    "self.hidden = nn.Linear(784, 256)\n",
    "```\n",
    "\n",
    "This line creates a module for a linear transformation, $x\\mathbf{W} + b$, with 784 inputs and 256 outputs and assigns it to `self.hidden`. The module automatically creates the weight and bias tensors which we'll use in the `forward` method. You can access the weight and bias tensors once the network (`net`) is created with `net.hidden.weight` and `net.hidden.bias`.\n",
    "\n",
    "```python\n",
    "self.output = nn.Linear(256, 10)\n",
    "```\n",
    "\n",
    "Similarly, this creates another linear transformation with 256 inputs and 10 outputs.\n",
    "\n",
    "```python\n",
    "self.sigmoid = nn.Sigmoid()\n",
    "self.softmax = nn.Softmax(dim=1)\n",
    "```\n",
    "\n",
    "Here I defined operations for the sigmoid activation and softmax output. Setting `dim=1` in `nn.Softmax(dim=1)` calculates softmax across the columns.\n",
    "\n",
    "```python\n",
    "def forward(self, x):\n",
    "```\n",
    "\n",
    "PyTorch networks created with `nn.Module` must have a `forward` method defined. It takes in a tensor `x` and passes it through the operations you defined in the `__init__` method.\n",
    "\n",
    "```python\n",
    "x = self.hidden(x)\n",
    "x = self.sigmoid(x)\n",
    "x = self.output(x)\n",
    "x = self.softmax(x)\n",
    "```\n",
    "\n",
    "Here the input tensor `x` is passed through each operation and reassigned to `x`. We can see that the input tensor goes through the hidden layer, then a sigmoid function, then the output layer, and finally the softmax function. It doesn't matter what you name the variables here, as long as the inputs and outputs of the operations match the network architecture you want to build. The order in which you define things in the `__init__` method doesn't matter, but you'll need to sequence the operations correctly in the `forward` method.\n",
    "\n",
    "Now we can create a `Network` object."
   ]
  },
  {
   "cell_type": "code",
   "execution_count": 18,
   "metadata": {},
   "outputs": [
    {
     "data": {
      "text/plain": [
       "Network(\n",
       "  (hidden): Linear(in_features=784, out_features=256, bias=True)\n",
       "  (output): Linear(in_features=256, out_features=10, bias=True)\n",
       "  (sigmoid): Sigmoid()\n",
       "  (softmax): Softmax()\n",
       ")"
      ]
     },
     "execution_count": 18,
     "metadata": {},
     "output_type": "execute_result"
    }
   ],
   "source": [
    "# Create the network and look at it's text representation\n",
    "model = Network()\n",
    "model"
   ]
  },
  {
   "cell_type": "markdown",
   "metadata": {},
   "source": [
    "You can define the network somewhat more concisely and clearly using the `torch.nn.functional` module. This is the most common way you'll see networks defined as many operations are simple element-wise functions. We normally import this module as `F`, `import torch.nn.functional as F`."
   ]
  },
  {
   "cell_type": "code",
   "execution_count": 19,
   "metadata": {},
   "outputs": [],
   "source": [
    "import torch.nn.functional as F\n",
    "\n",
    "class Network(nn.Module):\n",
    "    def __init__(self):\n",
    "        super().__init__()\n",
    "        # Inputs to hidden layer linear transformation\n",
    "        self.hidden = nn.Linear(784, 256)\n",
    "        # Output layer, 10 units - one for each digit\n",
    "        self.output = nn.Linear(256, 10)\n",
    "        \n",
    "    def forward(self, x):\n",
    "        # Hidden layer with sigmoid activation\n",
    "        x = F.sigmoid(self.hidden(x))\n",
    "        # Output layer with softmax activation\n",
    "        x = F.softmax(self.output(x), dim=1)\n",
    "        \n",
    "        return x"
   ]
  },
  {
   "cell_type": "markdown",
   "metadata": {},
   "source": [
    "### Activation functions\n",
    "\n",
    "So far we've only been looking at the sigmoid activation, but in general any function can be used as an activation function. The only requirement is that for a network to approximate a non-linear function, the activation functions must be non-linear. Here are a few more examples of common activation functions: Tanh (hyperbolic tangent), and ReLU (rectified linear unit).\n",
    "\n",
    "<img src=\"assets/activation.png\" width=700px>\n",
    "\n",
    "In practice, the ReLU function is used almost exclusively as the activation function for hidden layers."
   ]
  },
  {
   "cell_type": "markdown",
   "metadata": {},
   "source": [
    "### Your Turn to Build a Network\n",
    "\n",
    "<img src=\"assets/mlp_mnist.png\" width=600px>\n",
    "\n",
    "> **Exercise:** Create a network with 784 input units, a hidden layer with 128 units and a ReLU activation, then a hidden layer with 64 units and a ReLU activation, and finally an output layer with a softmax activation as shown above. You can use a ReLU activation with the `nn.ReLU` module or `F.relu` function.\n",
    "\n",
    "It's good practice to name your layers by their type of network, for instance 'fc' to represent a fully-connected layer. As you code your solution, use `fc1`, `fc2`, and `fc3` as your layer names."
   ]
  },
  {
   "cell_type": "code",
   "execution_count": 20,
   "metadata": {
    "scrolled": true
   },
   "outputs": [
    {
     "data": {
      "text/plain": [
       "Network(\n",
       "  (fc1): Linear(in_features=784, out_features=128, bias=True)\n",
       "  (fc2): Linear(in_features=128, out_features=64, bias=True)\n",
       "  (fc3): Linear(in_features=64, out_features=10, bias=True)\n",
       ")"
      ]
     },
     "execution_count": 20,
     "metadata": {},
     "output_type": "execute_result"
    }
   ],
   "source": [
    "## Your solution here\n",
    "class Network(nn.Module):\n",
    "    def __init__(self):\n",
    "        super().__init__()\n",
    "        self.fc1 = nn.Linear(784, 128)\n",
    "        self.fc2 = nn.Linear(128, 64)\n",
    "        self.fc3 = nn.Linear(64, 10)\n",
    "    def forward(self, x):\n",
    "        self.a1 = F.relu(self.fc1(x))\n",
    "        self.a2 = F.relu(self.fc2(self.a1))\n",
    "        out = F.softmax(self.fc3(self.a2), dim=1)\n",
    "        \n",
    "        return out\n",
    "\n",
    "model = Network()\n",
    "model\n",
    "\n",
    "\n",
    "# class Network(nn.Module):\n",
    "#     def __init__(self):\n",
    "#         super().__init__()\n",
    "#         # Defining the layers, 128, 64, 10 units each\n",
    "#         self.fc1 = nn.Linear(784, 128)\n",
    "#         self.fc2 = nn.Linear(128, 64)\n",
    "#         # Output layer, 10 units - one for each digit\n",
    "#         self.fc3 = nn.Linear(64, 10)\n",
    "        \n",
    "#     def forward(self, x):\n",
    "#         ''' Forward pass through the network, returns the output logits '''\n",
    "        \n",
    "#         x = self.fc1(x)\n",
    "#         x = F.relu(x)\n",
    "#         x = self.fc2(x)\n",
    "#         x = F.relu(x)\n",
    "#         x = self.fc3(x)\n",
    "#         x = F.softmax(x, dim=1)\n",
    "        \n",
    "#         return x\n",
    "\n",
    "# model = Network()\n",
    "# model\n"
   ]
  },
  {
   "cell_type": "markdown",
   "metadata": {},
   "source": [
    "### Initializing weights and biases\n",
    "\n",
    "The weights and such are automatically initialized for you, but it's possible to customize how they are initialized. The weights and biases are tensors attached to the layer you defined, you can get them with `model.fc1.weight` for instance."
   ]
  },
  {
   "cell_type": "code",
   "execution_count": 21,
   "metadata": {},
   "outputs": [
    {
     "name": "stdout",
     "output_type": "stream",
     "text": [
      "Parameter containing:\n",
      "tensor([[ 0.0089, -0.0193,  0.0221,  ..., -0.0008,  0.0148, -0.0150],\n",
      "        [-0.0215, -0.0101,  0.0082,  ...,  0.0331, -0.0121,  0.0141],\n",
      "        [-0.0313,  0.0095, -0.0065,  ...,  0.0081, -0.0071,  0.0161],\n",
      "        ...,\n",
      "        [-0.0283,  0.0196,  0.0014,  ...,  0.0184,  0.0194, -0.0200],\n",
      "        [-0.0148, -0.0002, -0.0282,  ...,  0.0174, -0.0299, -0.0116],\n",
      "        [-0.0030,  0.0131, -0.0167,  ...,  0.0314,  0.0181, -0.0049]],\n",
      "       requires_grad=True)\n",
      "Parameter containing:\n",
      "tensor([-0.0141, -0.0186,  0.0179, -0.0096, -0.0272, -0.0241,  0.0129, -0.0191,\n",
      "         0.0230, -0.0125,  0.0028,  0.0152,  0.0241,  0.0316,  0.0024, -0.0001,\n",
      "        -0.0307,  0.0243,  0.0231,  0.0216,  0.0092, -0.0175,  0.0206, -0.0274,\n",
      "         0.0238,  0.0219, -0.0250,  0.0098,  0.0112, -0.0088, -0.0084,  0.0132,\n",
      "         0.0257, -0.0146, -0.0199,  0.0281,  0.0103, -0.0120,  0.0033, -0.0005,\n",
      "        -0.0130,  0.0238, -0.0231, -0.0115, -0.0350,  0.0269,  0.0163,  0.0345,\n",
      "        -0.0002,  0.0286, -0.0038, -0.0082, -0.0127, -0.0165,  0.0342, -0.0111,\n",
      "        -0.0173, -0.0169,  0.0184,  0.0112, -0.0038, -0.0353, -0.0206, -0.0056,\n",
      "         0.0354, -0.0185, -0.0078,  0.0013,  0.0328, -0.0257,  0.0313,  0.0077,\n",
      "         0.0091, -0.0254, -0.0143, -0.0207,  0.0069,  0.0130,  0.0192,  0.0100,\n",
      "        -0.0344, -0.0350, -0.0105, -0.0317, -0.0149, -0.0352,  0.0210, -0.0357,\n",
      "         0.0295, -0.0308,  0.0111, -0.0310, -0.0106, -0.0282, -0.0153,  0.0212,\n",
      "         0.0278,  0.0144,  0.0315, -0.0343, -0.0097,  0.0218,  0.0140,  0.0012,\n",
      "         0.0034, -0.0356, -0.0169,  0.0338,  0.0335,  0.0136,  0.0061,  0.0215,\n",
      "        -0.0104,  0.0060, -0.0090, -0.0201, -0.0356, -0.0225,  0.0192,  0.0233,\n",
      "         0.0319,  0.0333,  0.0204,  0.0003,  0.0264, -0.0332,  0.0068, -0.0184],\n",
      "       requires_grad=True)\n"
     ]
    }
   ],
   "source": [
    "print(model.fc1.weight)\n",
    "print(model.fc1.bias)"
   ]
  },
  {
   "cell_type": "markdown",
   "metadata": {},
   "source": [
    "For custom initialization, we want to modify these tensors in place. These are actually autograd *Variables*, so we need to get back the actual tensors with `model.fc1.weight.data`. Once we have the tensors, we can fill them with zeros (for biases) or random normal values."
   ]
  },
  {
   "cell_type": "code",
   "execution_count": 22,
   "metadata": {},
   "outputs": [
    {
     "data": {
      "text/plain": [
       "tensor([0., 0., 0., 0., 0., 0., 0., 0., 0., 0., 0., 0., 0., 0., 0., 0., 0., 0.,\n",
       "        0., 0., 0., 0., 0., 0., 0., 0., 0., 0., 0., 0., 0., 0., 0., 0., 0., 0.,\n",
       "        0., 0., 0., 0., 0., 0., 0., 0., 0., 0., 0., 0., 0., 0., 0., 0., 0., 0.,\n",
       "        0., 0., 0., 0., 0., 0., 0., 0., 0., 0., 0., 0., 0., 0., 0., 0., 0., 0.,\n",
       "        0., 0., 0., 0., 0., 0., 0., 0., 0., 0., 0., 0., 0., 0., 0., 0., 0., 0.,\n",
       "        0., 0., 0., 0., 0., 0., 0., 0., 0., 0., 0., 0., 0., 0., 0., 0., 0., 0.,\n",
       "        0., 0., 0., 0., 0., 0., 0., 0., 0., 0., 0., 0., 0., 0., 0., 0., 0., 0.,\n",
       "        0., 0.])"
      ]
     },
     "execution_count": 22,
     "metadata": {},
     "output_type": "execute_result"
    }
   ],
   "source": [
    "# Set biases to all zeros\n",
    "model.fc1.bias.data.fill_(0)\n",
    "#model.fc1.bias.data.fill_(0)"
   ]
  },
  {
   "cell_type": "code",
   "execution_count": 38,
   "metadata": {},
   "outputs": [
    {
     "data": {
      "text/plain": [
       "tensor([[ 0.0053, -0.0017,  0.0274,  ..., -0.0040,  0.0148,  0.0271],\n",
       "        [-0.0078,  0.0055,  0.0076,  ..., -0.0087, -0.0087,  0.0173],\n",
       "        [ 0.0217,  0.0123, -0.0168,  ...,  0.0016, -0.0149, -0.0086],\n",
       "        ...,\n",
       "        [ 0.0028, -0.0160,  0.0165,  ..., -0.0207,  0.0092,  0.0072],\n",
       "        [ 0.0038,  0.0100, -0.0020,  ...,  0.0073,  0.0111,  0.0051],\n",
       "        [-0.0030, -0.0013, -0.0037,  ..., -0.0004,  0.0053,  0.0002]])"
      ]
     },
     "execution_count": 38,
     "metadata": {},
     "output_type": "execute_result"
    }
   ],
   "source": [
    "# sample from random normal with standard dev = 0.01\n",
    "model.fc1.weight.data.normal_(std=0.01)\n",
    "#model.fc1.weight.data.normal_(std=0.01)"
   ]
  },
  {
   "cell_type": "markdown",
   "metadata": {},
   "source": [
    "### Forward pass\n",
    "\n",
    "Now that we have a network, let's see what happens when we pass in an image."
   ]
  },
  {
   "cell_type": "code",
   "execution_count": 23,
   "metadata": {},
   "outputs": [
    {
     "data": {
      "image/png": "[encoded data removed]",
      "text/plain": [
       "<Figure size 432x648 with 2 Axes>"
      ]
     },
     "metadata": {
      "image/png": {
       "height": 224,
       "width": 423
      },
      "needs_background": "light"
     },
     "output_type": "display_data"
    }
   ],
   "source": [
    "# Grab some data \n",
    "dataiter = iter(trainloader)\n",
    "images, labels = dataiter.next()\n",
    "\n",
    "# data_iter = iter(trainloader)\n",
    "# images, labels = dataiter.next()\n",
    "\n",
    "# Resize images into a 1D vector, new shape is (batch size, color channels, image pixels) \n",
    "images.resize_(64, 1, 784)\n",
    "# images.resize(64, 1, 784)\n",
    "# images.resize_(images.shape[0], 1, -1)\n",
    "# or images.resize_(images.shape[0], 1, 784) to automatically get batch size\n",
    "\n",
    "# Forward pass through the network\n",
    "# img_idx = 0\n",
    "# ps = model.forward(images[img_idx, :])\n",
    "img_idx = 0\n",
    "ps = model.forward(images[img_idx,:])\n",
    "\n",
    "# img = images[img_idx]\n",
    "# helper.viewclassify(img.view(1, 28, 28), ps)\n",
    "img = images[img_idx]\n",
    "helper.view_classify(img.view(1, 28, 28), ps)"
   ]
  },
  {
   "cell_type": "markdown",
   "metadata": {},
   "source": [
    "As you can see above, our network has basically no idea what this digit is. It's because we haven't trained it yet, all the weights are random!\n",
    "\n",
    "### Using `nn.Sequential`\n",
    "\n",
    "PyTorch provides a convenient way to build networks like this where a tensor is passed sequentially through operations, `nn.Sequential` ([documentation](https://pytorch.org/docs/master/nn.html#torch.nn.Sequential)). Using this to build the equivalent network:"
   ]
  },
  {
   "cell_type": "code",
   "execution_count": 24,
   "metadata": {},
   "outputs": [
    {
     "name": "stdout",
     "output_type": "stream",
     "text": [
      "Sequential(\n",
      "  (0): Linear(in_features=784, out_features=128, bias=True)\n",
      "  (1): ReLU()\n",
      "  (2): Linear(in_features=128, out_features=64, bias=True)\n",
      "  (3): ReLU()\n",
      "  (4): Linear(in_features=64, out_features=10, bias=True)\n",
      "  (5): Softmax()\n",
      ")\n"
     ]
    },
    {
     "data": {
      "image/png": "[encoded data removed]",
      "text/plain": [
       "<Figure size 432x648 with 2 Axes>"
      ]
     },
     "metadata": {
      "image/png": {
       "height": 224,
       "width": 423
      },
      "needs_background": "light"
     },
     "output_type": "display_data"
    }
   ],
   "source": [
    "# Hyperparameters for our network\n",
    "input_size = 784\n",
    "hidden_sizes = [128, 64]\n",
    "output_size = 10\n",
    "\n",
    "# Build a feed-forward network\n",
    "model = nn.Sequential(nn.Linear(input_size, hidden_sizes[0]),\n",
    "                      nn.ReLU(),\n",
    "                      nn.Linear(hidden_sizes[0], hidden_sizes[1]),\n",
    "                      nn.ReLU(),\n",
    "                      nn.Linear(hidden_sizes[1], output_size),\n",
    "                      nn.Softmax(dim=1))\n",
    "print(model)\n",
    "\n",
    "# Forward pass through the network and display output\n",
    "images, labels = next(iter(trainloader))\n",
    "images.resize_(images.shape[0], 1, 784)\n",
    "ps = model.forward(images[0,:])\n",
    "helper.view_classify(images[0].view(1, 28, 28), ps)"
   ]
  },
  {
   "cell_type": "markdown",
   "metadata": {},
   "source": [
    "Here our model is the same as before: 784 input units, a hidden layer with 128 units, ReLU activation, 64 unit hidden layer, another ReLU, then the output layer with 10 units, and the softmax output.\n",
    "\n",
    "The operations are available by passing in the appropriate index. For example, if you want to get first Linear operation and look at the weights, you'd use `model[0]`."
   ]
  },
  {
   "cell_type": "code",
   "execution_count": 41,
   "metadata": {},
   "outputs": [
    {
     "name": "stdout",
     "output_type": "stream",
     "text": [
      "Linear(in_features=784, out_features=128, bias=True)\n"
     ]
    },
    {
     "data": {
      "text/plain": [
       "Parameter containing:\n",
       "tensor([[ 0.0092, -0.0057,  0.0252,  ..., -0.0080,  0.0261,  0.0221],\n",
       "        [ 0.0082,  0.0224,  0.0215,  ...,  0.0207, -0.0049, -0.0042],\n",
       "        [ 0.0286,  0.0018,  0.0294,  ...,  0.0045, -0.0347, -0.0018],\n",
       "        ...,\n",
       "        [ 0.0190, -0.0140, -0.0127,  ..., -0.0296, -0.0308,  0.0216],\n",
       "        [-0.0242,  0.0143, -0.0235,  ..., -0.0355,  0.0336,  0.0026],\n",
       "        [ 0.0248, -0.0077, -0.0118,  ...,  0.0273, -0.0082, -0.0168]],\n",
       "       requires_grad=True)"
      ]
     },
     "execution_count": 41,
     "metadata": {},
     "output_type": "execute_result"
    }
   ],
   "source": [
    "print(model[0])\n",
    "model[0].weight"
   ]
  },
  {
   "cell_type": "markdown",
   "metadata": {},
   "source": [
    "You can also pass in an `OrderedDict` to name the individual layers and operations, instead of using incremental integers. Note that dictionary keys must be unique, so _each operation must have a different name_."
   ]
  },
  {
   "cell_type": "code",
   "execution_count": 42,
   "metadata": {},
   "outputs": [
    {
     "data": {
      "text/plain": [
       "Sequential(\n",
       "  (fc1): Linear(in_features=784, out_features=128, bias=True)\n",
       "  (relu1): ReLU()\n",
       "  (fc2): Linear(in_features=128, out_features=64, bias=True)\n",
       "  (relu2): ReLU()\n",
       "  (output): Linear(in_features=64, out_features=10, bias=True)\n",
       "  (softmax): Softmax()\n",
       ")"
      ]
     },
     "execution_count": 42,
     "metadata": {},
     "output_type": "execute_result"
    }
   ],
   "source": [
    "from collections import OrderedDict\n",
    "model = nn.Sequential(OrderedDict([\n",
    "                      ('fc1', nn.Linear(input_size, hidden_sizes[0])),\n",
    "                      ('relu1', nn.ReLU()),\n",
    "                      ('fc2', nn.Linear(hidden_sizes[0], hidden_sizes[1])),\n",
    "                      ('relu2', nn.ReLU()),\n",
    "                      ('output', nn.Linear(hidden_sizes[1], output_size)),\n",
    "                      ('softmax', nn.Softmax(dim=1))]))\n",
    "model"
   ]
  },
  {
   "cell_type": "markdown",
   "metadata": {},
   "source": [
    "Now you can access layers either by integer or the name"
   ]
  },
  {
   "cell_type": "code",
   "execution_count": 45,
   "metadata": {},
   "outputs": [
    {
     "name": "stdout",
     "output_type": "stream",
     "text": [
      "Linear(in_features=784, out_features=128, bias=True)\n",
      "Linear(in_features=784, out_features=128, bias=True) Linear(in_features=128, out_features=64, bias=True) Softmax()\n"
     ]
    }
   ],
   "source": [
    "print(model[0])\n",
    "print(model.fc1, model.fc2, model.softmax)"
   ]
  },
  {
   "cell_type": "markdown",
   "metadata": {},
   "source": [
    "In the next notebook, we'll see how we can train a neural network to accuractly predict the numbers appearing in the MNIST images."
   ]
  }
 ],
 "metadata": {
  "kernelspec": {
   "display_name": "Python 3",
   "language": "python",
   "name": "python3"
  },
  "language_info": {
   "codemirror_mode": {
    "name": "ipython",
    "version": 3
   },
   "file_extension": ".py",
   "mimetype": "text/x-python",
   "name": "python",
   "nbconvert_exporter": "python",
   "pygments_lexer": "ipython3",
   "version": "3.6.7"
  }
 },
 "nbformat": 4,
 "nbformat_minor": 2
}
